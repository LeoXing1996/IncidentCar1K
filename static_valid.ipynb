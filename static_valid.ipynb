{
 "cells": [
  {
   "cell_type": "code",
   "execution_count": 1,
   "id": "b48d65a4-30e4-4635-9c81-c7012cfc323b",
   "metadata": {},
   "outputs": [],
   "source": [
    "import json\n",
    "import matplotlib\n",
    "from matplotlib import pyplot as plt\n",
    "import os\n",
    "import os.path as osp"
   ]
  },
  {
   "cell_type": "code",
   "execution_count": 2,
   "id": "c329ce7d-867c-4269-ab3a-3e9596e99ae8",
   "metadata": {},
   "outputs": [],
   "source": [
    "with open('train_valid.json', 'r') as file:\n",
    "    valid_info = json.load(file)"
   ]
  },
  {
   "cell_type": "code",
   "execution_count": 9,
   "id": "06b3c630-b931-45b1-b540-3e8efd7b5792",
   "metadata": {},
   "outputs": [],
   "source": [
    "labels = [info['label'] for info in valid_info.values() if info['valid']==True]"
   ]
  },
  {
   "cell_type": "code",
   "execution_count": null,
   "id": "eed3f4a4-8874-4be5-a100-24ffe9ce41f3",
   "metadata": {},
   "outputs": [],
   "source": []
  },
  {
   "cell_type": "code",
   "execution_count": 10,
   "id": "7705b42a-ca50-4902-b052-24b065f9ac71",
   "metadata": {},
   "outputs": [
    {
     "name": "stdout",
     "output_type": "stream",
     "text": [
      "typhoon_in_railroad_track\n"
     ]
    }
   ],
   "source": [
    "for label in labels:\n",
    "    labs = label.split('_')\n",
    "    if labs[2] != 'in':\n",
    "        print(label)\n",
    "    # if len(labs) != 4:\n",
    "    #     print(label)"
   ]
  },
  {
   "cell_type": "code",
   "execution_count": 12,
   "id": "1a3324ef-2461-4dba-9857-5be7a9a4ce8e",
   "metadata": {},
   "outputs": [],
   "source": [
    "count = dict()\n",
    "for label in labels:\n",
    "    labs = label.split('_')\n",
    "    if labs[0] in count:\n",
    "        count[labs[0]] += 1\n",
    "    else:\n",
    "        count[labs[0]] = 1"
   ]
  },
  {
   "cell_type": "code",
   "execution_count": 13,
   "id": "fa41c0e3-074f-4165-8c9b-e1d69050dbc8",
   "metadata": {},
   "outputs": [
    {
     "data": {
      "text/plain": [
       "{'bus': 208, 'car': 451, 'river': 2, 'track': 122, 'van': 216, 'typhoon': 1}"
      ]
     },
     "execution_count": 13,
     "metadata": {},
     "output_type": "execute_result"
    }
   ],
   "source": [
    "count"
   ]
  },
  {
   "cell_type": "code",
   "execution_count": 16,
   "id": "d4c398ec-6ead-4f93-ad91-5c5bcd323ce1",
   "metadata": {},
   "outputs": [],
   "source": [
    "colunm = ['Bus', 'Car', 'Van', 'Railway']\n",
    "rows = [208, 451, 216, 1000-208-451-216]"
   ]
  },
  {
   "cell_type": "code",
   "execution_count": 17,
   "id": "89c909ee-fdb1-4c0f-a33a-cf179645bebc",
   "metadata": {},
   "outputs": [],
   "source": [
    "import numpy as np"
   ]
  },
  {
   "cell_type": "code",
   "execution_count": 38,
   "id": "ce0988f5-e093-415e-99d1-ee3137c5b396",
   "metadata": {},
   "outputs": [],
   "source": [
    "import matplotlib.pyplot as plt\n",
    "plt.rcParams['font.sans-serif'] = ['Arial Unicode MS']###解决中文乱码\n",
    "plt.rcParams['axes.unicode_minus']=False\n"
   ]
  },
  {
   "cell_type": "code",
   "execution_count": 50,
   "id": "d1e5eb0a-4aba-4a94-acb3-2bc78f0765ac",
   "metadata": {},
   "outputs": [
    {
     "data": {
      "image/png": "[encoded data removed]",
      "text/plain": [
       "<Figure size 1080x720 with 1 Axes>"
      ]
     },
     "metadata": {
      "needs_background": "light"
     },
     "output_type": "display_data"
    }
   ],
   "source": [
    "fig, ax = plt.subplots(figsize=(15, 10))\n",
    "p = ax.bar(np.arange(len(colunm)), rows)\n",
    "ax.set_ylabel('数量', fontdict={'size':18})\n",
    "ax.set_xlabel('类别', fontdict={'size':18})\n",
    "ax.set_xticks(np.arange(len(colunm)), labels=colunm, fontsize=18)\n",
    "ax.yaxis.set_tick_params(labelsize=18)\n",
    "plt.show()"
   ]
  },
  {
   "cell_type": "code",
   "execution_count": 52,
   "id": "3deed2c5-8dbd-422f-a594-9fcf3559f39e",
   "metadata": {},
   "outputs": [],
   "source": [
    "accident_type = dict()\n",
    "for label in labels:\n",
    "    labs = label.split('_')\n",
    "    if labs[1] in accident_type:\n",
    "        accident_type[labs[1]] += 1\n",
    "    else:\n",
    "        accident_type[labs[1]] = 1"
   ]
  },
  {
   "cell_type": "code",
   "execution_count": 53,
   "id": "1c9cde3f-bf19-4018-a83e-bfedd0057e93",
   "metadata": {},
   "outputs": [
    {
     "data": {
      "text/plain": [
       "{'explosion': 65,\n",
       " 'accident': 236,\n",
       " 'crash': 200,\n",
       " 'wreck': 143,\n",
       " 'collision': 234,\n",
       " 'flood': 2,\n",
       " 'disaster': 56,\n",
       " 'incident': 63,\n",
       " 'in': 1}"
      ]
     },
     "execution_count": 53,
     "metadata": {},
     "output_type": "execute_result"
    }
   ],
   "source": [
    "accident_type"
   ]
  },
  {
   "cell_type": "code",
   "execution_count": null,
   "id": "96d88093-9e2b-4235-86cf-8af2896f76af",
   "metadata": {},
   "outputs": [],
   "source": []
  }
 ],
 "metadata": {
  "kernelspec": {
   "display_name": "Python 3 (ipykernel)",
   "language": "python",
   "name": "python3"
  },
  "language_info": {
   "codemirror_mode": {
    "name": "ipython",
    "version": 3
   },
   "file_extension": ".py",
   "mimetype": "text/x-python",
   "name": "python",
   "nbconvert_exporter": "python",
   "pygments_lexer": "ipython3",
   "version": "3.8.12"
  }
 },
 "nbformat": 4,
 "nbformat_minor": 5
}
